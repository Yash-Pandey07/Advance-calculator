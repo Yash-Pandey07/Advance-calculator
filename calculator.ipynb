{
  "nbformat": 4,
  "nbformat_minor": 0,
  "metadata": {
    "colab": {
      "name": "calculator",
      "provenance": [],
      "collapsed_sections": []
    },
    "kernelspec": {
      "name": "python3",
      "display_name": "Python 3"
    }
  },
  "cells": [
    {
      "cell_type": "code",
      "metadata": {
        "id": "aIe0Rn9-TMZy",
        "colab_type": "code",
        "colab": {
          "base_uri": "https://localhost:8080/",
          "height": 199
        },
        "outputId": "69bd3ec6-720a-471c-8c55-8320222ca0be"
      },
      "source": [
        "# -*- coding: utf-8 -*-\n",
        "\"\"\"\n",
        "Created on Sat May  2 17:12:06 2020\n",
        "\n",
        "@author: DELL\n",
        "\"\"\"\n",
        "\n",
        "import re\n",
        "print(\"********WELCOME **********\")\n",
        "print(\"Type quit to exit\")\n",
        "previous =0\n",
        "run=True\n",
        "\n",
        "def performMath():\n",
        "\tglobal run\n",
        "\tglobal previous\n",
        "\tequation=\"\"\n",
        "\tif previous==0:\n",
        "\t\tequation=input(\"Enter equation: \")\n",
        "\telse:\n",
        "\t\tequation=input(str(previous))\n",
        "\t\t\n",
        "\tif equation=='quit':\n",
        "\t\tprint(\"Good bye ,Thanks for using it\")\n",
        "\t\trun=False\n",
        "\telse:\n",
        "\t\tequation=re.sub('[a-zA-Z,:()\" \"]','',equation)\n",
        "\t\t\n",
        "\t\tif previous==0:\n",
        "\t\t\tprevious=eval(equation)\n",
        "\t\telse:\n",
        "\t\t\tprevious=eval(str(previous)+equation)\n",
        "\n",
        "while run:\n",
        "\tperformMath()"
      ],
      "execution_count": 2,
      "outputs": [
        {
          "output_type": "stream",
          "text": [
            "********WELCOME **********\n",
            "Type quit to exit\n",
            "Enter equation: 5+5.5\n",
            "10.55..5\n"
          ],
          "name": "stdout"
        },
        {
          "output_type": "error",
          "ename": "SyntaxError",
          "evalue": "ignored",
          "traceback": [
            "\u001b[0;36m  File \u001b[0;32m\"<string>\"\u001b[0;36m, line \u001b[0;32m1\u001b[0m\n\u001b[0;31m    10.55..5\u001b[0m\n\u001b[0m           ^\u001b[0m\n\u001b[0;31mSyntaxError\u001b[0m\u001b[0;31m:\u001b[0m unexpected EOF while parsing\n"
          ]
        }
      ]
    },
    {
      "cell_type": "code",
      "metadata": {
        "id": "XCr8My3uTPdA",
        "colab_type": "code",
        "colab": {}
      },
      "source": [
        ""
      ],
      "execution_count": 0,
      "outputs": []
    }
  ]
}